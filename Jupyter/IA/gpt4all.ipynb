{
 "cells": [
  {
   "cell_type": "code",
   "execution_count": 11,
   "id": "3c429fd8-66c2-4c8d-bb6a-bf45a9130611",
   "metadata": {},
   "outputs": [
    {
     "name": "stderr",
     "output_type": "stream",
     "text": [
      "Device set to use cpu\n",
      "Setting `pad_token_id` to `eos_token_id`:50256 for open-end generation.\n"
     ]
    },
    {
     "name": "stdout",
     "output_type": "stream",
     "text": [
      "what it means 'Hola'? That's what it means when you say it's a 'Hola' because it's part of the same universe as the Sun.\n",
      "\n",
      "\"So, as you're talking about the Milky Way, it's a good analogy. It's a beautiful place to be and it's an amazing place to be. And it's a great place to be for you because it's one of the places that we've spent our lives.\n",
      "\n",
      "\"It's a world of beauty and wonder, too. It's an inspiring place for children to have. It's an incredible place to be from.\"\n",
      "\n",
      "The BBC's news service added: \"The sun is the only way to explain the sun's existence on Earth.\n",
      "\n",
      "\"It's a powerful, universal, and very beautiful light. And if it's not seen, it's not seen for ever.\n",
      "\n",
      "\"It's the only way to get back to the sun.\n",
      "\n",
      "\"There is no other sun.\n",
      "\n",
      "\"It's the only way to see the sun's true colours.\n",
      "\n",
      "\"It's the only way to return to the world of the sun.\n",
      "\n",
      "\"The sun's a great symbol of the earth.\n",
      "\n",
      "\"It's our symbol of life.\n",
      "\n",
      "\n"
     ]
    }
   ],
   "source": [
    "from transformers import pipeline\n",
    "\n",
    "# Load GPT-2 for text generation\n",
    "generator = pipeline(\"text-generation\", model=\"gpt2\")\n",
    "\n",
    "# Generate text\n",
    "prompt = \"what it means 'Hola'?\"\n",
    "output = generator(prompt)\n",
    "print(output[0][\"generated_text\"])"
   ]
  },
  {
   "cell_type": "code",
   "execution_count": null,
   "id": "ea59143a-732a-4b05-8098-2425009892d6",
   "metadata": {},
   "outputs": [],
   "source": []
  }
 ],
 "metadata": {
  "kernelspec": {
   "display_name": "Python 3 (ipykernel)",
   "language": "python",
   "name": "python3"
  },
  "language_info": {
   "codemirror_mode": {
    "name": "ipython",
    "version": 3
   },
   "file_extension": ".py",
   "mimetype": "text/x-python",
   "name": "python",
   "nbconvert_exporter": "python",
   "pygments_lexer": "ipython3",
   "version": "3.13.2"
  }
 },
 "nbformat": 4,
 "nbformat_minor": 5
}
